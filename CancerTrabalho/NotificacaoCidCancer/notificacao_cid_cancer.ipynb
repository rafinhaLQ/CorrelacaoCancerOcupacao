{
 "cells": [
  {
   "cell_type": "markdown",
   "metadata": {},
   "source": [
    "## Investigação De Câncer relacionado ao Trabalho - Notificações registradas no Sinan Net - Brasil\n",
    "## Notificações por CID Câncer\n",
    "Período: 2019-2023"
   ]
  },
  {
   "cell_type": "code",
   "metadata": {
    "ExecuteTime": {
     "end_time": "2024-05-16T01:00:04.739472Z",
     "start_time": "2024-05-16T01:00:04.200658Z"
    }
   },
   "source": [
    "import pandas as pd"
   ],
   "outputs": [],
   "execution_count": 1
  },
  {
   "cell_type": "code",
   "metadata": {
    "ExecuteTime": {
     "end_time": "2024-05-16T01:00:04.771087Z",
     "start_time": "2024-05-16T01:00:04.741444Z"
    }
   },
   "source": [
    "data = pd.read_csv('data/tratado/notificacao_cid_cancer.csv', sep=';')\n",
    "data"
   ],
   "outputs": [
    {
     "data": {
      "text/plain": [
       "                                        CID Cancer  Notificações\n",
       "0                       C00 - Neopl malig do labio             3\n",
       "1              C01 - Neopl malig da base da lingua             8\n",
       "2     C02 - Neopl malig outr partes e NE da lingua             7\n",
       "3            C04 - Neopl malig do assoalho da boca             4\n",
       "4                      C05 - Neopl malig do palato             3\n",
       "..                                             ...           ...\n",
       "84                    D46 - Sindr mielodisplasicas             6\n",
       "85  D48 - Neopl comp inc/desconh outr localiz e NE             4\n",
       "86                                Não preeenchidos           603\n",
       "87                       Outros CID's não listados            34\n",
       "88                                           Total          3649\n",
       "\n",
       "[89 rows x 2 columns]"
      ],
      "text/html": [
       "<div>\n",
       "<style scoped>\n",
       "    .dataframe tbody tr th:only-of-type {\n",
       "        vertical-align: middle;\n",
       "    }\n",
       "\n",
       "    .dataframe tbody tr th {\n",
       "        vertical-align: top;\n",
       "    }\n",
       "\n",
       "    .dataframe thead th {\n",
       "        text-align: right;\n",
       "    }\n",
       "</style>\n",
       "<table border=\"1\" class=\"dataframe\">\n",
       "  <thead>\n",
       "    <tr style=\"text-align: right;\">\n",
       "      <th></th>\n",
       "      <th>CID Cancer</th>\n",
       "      <th>Notificações</th>\n",
       "    </tr>\n",
       "  </thead>\n",
       "  <tbody>\n",
       "    <tr>\n",
       "      <th>0</th>\n",
       "      <td>C00 - Neopl malig do labio</td>\n",
       "      <td>3</td>\n",
       "    </tr>\n",
       "    <tr>\n",
       "      <th>1</th>\n",
       "      <td>C01 - Neopl malig da base da lingua</td>\n",
       "      <td>8</td>\n",
       "    </tr>\n",
       "    <tr>\n",
       "      <th>2</th>\n",
       "      <td>C02 - Neopl malig outr partes e NE da lingua</td>\n",
       "      <td>7</td>\n",
       "    </tr>\n",
       "    <tr>\n",
       "      <th>3</th>\n",
       "      <td>C04 - Neopl malig do assoalho da boca</td>\n",
       "      <td>4</td>\n",
       "    </tr>\n",
       "    <tr>\n",
       "      <th>4</th>\n",
       "      <td>C05 - Neopl malig do palato</td>\n",
       "      <td>3</td>\n",
       "    </tr>\n",
       "    <tr>\n",
       "      <th>...</th>\n",
       "      <td>...</td>\n",
       "      <td>...</td>\n",
       "    </tr>\n",
       "    <tr>\n",
       "      <th>84</th>\n",
       "      <td>D46 - Sindr mielodisplasicas</td>\n",
       "      <td>6</td>\n",
       "    </tr>\n",
       "    <tr>\n",
       "      <th>85</th>\n",
       "      <td>D48 - Neopl comp inc/desconh outr localiz e NE</td>\n",
       "      <td>4</td>\n",
       "    </tr>\n",
       "    <tr>\n",
       "      <th>86</th>\n",
       "      <td>Não preeenchidos</td>\n",
       "      <td>603</td>\n",
       "    </tr>\n",
       "    <tr>\n",
       "      <th>87</th>\n",
       "      <td>Outros CID's não listados</td>\n",
       "      <td>34</td>\n",
       "    </tr>\n",
       "    <tr>\n",
       "      <th>88</th>\n",
       "      <td>Total</td>\n",
       "      <td>3649</td>\n",
       "    </tr>\n",
       "  </tbody>\n",
       "</table>\n",
       "<p>89 rows × 2 columns</p>\n",
       "</div>"
      ]
     },
     "execution_count": 2,
     "metadata": {},
     "output_type": "execute_result"
    }
   ],
   "execution_count": 2
  },
  {
   "cell_type": "code",
   "metadata": {
    "ExecuteTime": {
     "end_time": "2024-05-16T01:00:04.786630Z",
     "start_time": "2024-05-16T01:00:04.773088Z"
    }
   },
   "source": [
    "data = data[data['CID Cancer'] != \"Total\"]\n",
    "data"
   ],
   "outputs": [
    {
     "data": {
      "text/plain": [
       "                                           CID Cancer  Notificações\n",
       "0                          C00 - Neopl malig do labio             3\n",
       "1                 C01 - Neopl malig da base da lingua             8\n",
       "2        C02 - Neopl malig outr partes e NE da lingua             7\n",
       "3               C04 - Neopl malig do assoalho da boca             4\n",
       "4                         C05 - Neopl malig do palato             3\n",
       "..                                                ...           ...\n",
       "83  D43 - Neopl comp inc/desc encefalo sist nerv c...             4\n",
       "84                       D46 - Sindr mielodisplasicas             6\n",
       "85     D48 - Neopl comp inc/desconh outr localiz e NE             4\n",
       "86                                   Não preeenchidos           603\n",
       "87                          Outros CID's não listados            34\n",
       "\n",
       "[88 rows x 2 columns]"
      ],
      "text/html": [
       "<div>\n",
       "<style scoped>\n",
       "    .dataframe tbody tr th:only-of-type {\n",
       "        vertical-align: middle;\n",
       "    }\n",
       "\n",
       "    .dataframe tbody tr th {\n",
       "        vertical-align: top;\n",
       "    }\n",
       "\n",
       "    .dataframe thead th {\n",
       "        text-align: right;\n",
       "    }\n",
       "</style>\n",
       "<table border=\"1\" class=\"dataframe\">\n",
       "  <thead>\n",
       "    <tr style=\"text-align: right;\">\n",
       "      <th></th>\n",
       "      <th>CID Cancer</th>\n",
       "      <th>Notificações</th>\n",
       "    </tr>\n",
       "  </thead>\n",
       "  <tbody>\n",
       "    <tr>\n",
       "      <th>0</th>\n",
       "      <td>C00 - Neopl malig do labio</td>\n",
       "      <td>3</td>\n",
       "    </tr>\n",
       "    <tr>\n",
       "      <th>1</th>\n",
       "      <td>C01 - Neopl malig da base da lingua</td>\n",
       "      <td>8</td>\n",
       "    </tr>\n",
       "    <tr>\n",
       "      <th>2</th>\n",
       "      <td>C02 - Neopl malig outr partes e NE da lingua</td>\n",
       "      <td>7</td>\n",
       "    </tr>\n",
       "    <tr>\n",
       "      <th>3</th>\n",
       "      <td>C04 - Neopl malig do assoalho da boca</td>\n",
       "      <td>4</td>\n",
       "    </tr>\n",
       "    <tr>\n",
       "      <th>4</th>\n",
       "      <td>C05 - Neopl malig do palato</td>\n",
       "      <td>3</td>\n",
       "    </tr>\n",
       "    <tr>\n",
       "      <th>...</th>\n",
       "      <td>...</td>\n",
       "      <td>...</td>\n",
       "    </tr>\n",
       "    <tr>\n",
       "      <th>83</th>\n",
       "      <td>D43 - Neopl comp inc/desc encefalo sist nerv c...</td>\n",
       "      <td>4</td>\n",
       "    </tr>\n",
       "    <tr>\n",
       "      <th>84</th>\n",
       "      <td>D46 - Sindr mielodisplasicas</td>\n",
       "      <td>6</td>\n",
       "    </tr>\n",
       "    <tr>\n",
       "      <th>85</th>\n",
       "      <td>D48 - Neopl comp inc/desconh outr localiz e NE</td>\n",
       "      <td>4</td>\n",
       "    </tr>\n",
       "    <tr>\n",
       "      <th>86</th>\n",
       "      <td>Não preeenchidos</td>\n",
       "      <td>603</td>\n",
       "    </tr>\n",
       "    <tr>\n",
       "      <th>87</th>\n",
       "      <td>Outros CID's não listados</td>\n",
       "      <td>34</td>\n",
       "    </tr>\n",
       "  </tbody>\n",
       "</table>\n",
       "<p>88 rows × 2 columns</p>\n",
       "</div>"
      ]
     },
     "execution_count": 3,
     "metadata": {},
     "output_type": "execute_result"
    }
   ],
   "execution_count": 3
  },
  {
   "cell_type": "code",
   "metadata": {
    "ExecuteTime": {
     "end_time": "2024-05-16T01:00:04.802155Z",
     "start_time": "2024-05-16T01:00:04.788640Z"
    }
   },
   "source": [
    "dataForAnomalyDetection = data.drop(['CID Cancer'], axis=1)\n",
    "dataForAnomalyDetection"
   ],
   "outputs": [
    {
     "data": {
      "text/plain": [
       "    Notificações\n",
       "0              3\n",
       "1              8\n",
       "2              7\n",
       "3              4\n",
       "4              3\n",
       "..           ...\n",
       "83             4\n",
       "84             6\n",
       "85             4\n",
       "86           603\n",
       "87            34\n",
       "\n",
       "[88 rows x 1 columns]"
      ],
      "text/html": [
       "<div>\n",
       "<style scoped>\n",
       "    .dataframe tbody tr th:only-of-type {\n",
       "        vertical-align: middle;\n",
       "    }\n",
       "\n",
       "    .dataframe tbody tr th {\n",
       "        vertical-align: top;\n",
       "    }\n",
       "\n",
       "    .dataframe thead th {\n",
       "        text-align: right;\n",
       "    }\n",
       "</style>\n",
       "<table border=\"1\" class=\"dataframe\">\n",
       "  <thead>\n",
       "    <tr style=\"text-align: right;\">\n",
       "      <th></th>\n",
       "      <th>Notificações</th>\n",
       "    </tr>\n",
       "  </thead>\n",
       "  <tbody>\n",
       "    <tr>\n",
       "      <th>0</th>\n",
       "      <td>3</td>\n",
       "    </tr>\n",
       "    <tr>\n",
       "      <th>1</th>\n",
       "      <td>8</td>\n",
       "    </tr>\n",
       "    <tr>\n",
       "      <th>2</th>\n",
       "      <td>7</td>\n",
       "    </tr>\n",
       "    <tr>\n",
       "      <th>3</th>\n",
       "      <td>4</td>\n",
       "    </tr>\n",
       "    <tr>\n",
       "      <th>4</th>\n",
       "      <td>3</td>\n",
       "    </tr>\n",
       "    <tr>\n",
       "      <th>...</th>\n",
       "      <td>...</td>\n",
       "    </tr>\n",
       "    <tr>\n",
       "      <th>83</th>\n",
       "      <td>4</td>\n",
       "    </tr>\n",
       "    <tr>\n",
       "      <th>84</th>\n",
       "      <td>6</td>\n",
       "    </tr>\n",
       "    <tr>\n",
       "      <th>85</th>\n",
       "      <td>4</td>\n",
       "    </tr>\n",
       "    <tr>\n",
       "      <th>86</th>\n",
       "      <td>603</td>\n",
       "    </tr>\n",
       "    <tr>\n",
       "      <th>87</th>\n",
       "      <td>34</td>\n",
       "    </tr>\n",
       "  </tbody>\n",
       "</table>\n",
       "<p>88 rows × 1 columns</p>\n",
       "</div>"
      ]
     },
     "execution_count": 4,
     "metadata": {},
     "output_type": "execute_result"
    }
   ],
   "execution_count": 4
  },
  {
   "cell_type": "code",
   "metadata": {
    "ExecuteTime": {
     "end_time": "2024-05-16T01:00:08.667594Z",
     "start_time": "2024-05-16T01:00:04.805151Z"
    }
   },
   "source": [
    "from pycaret.anomaly import *"
   ],
   "outputs": [],
   "execution_count": 5
  },
  {
   "cell_type": "code",
   "metadata": {
    "ExecuteTime": {
     "end_time": "2024-05-16T01:00:11.739518Z",
     "start_time": "2024-05-16T01:00:08.668567Z"
    }
   },
   "source": [
    "s = setup(dataForAnomalyDetection, session_id=123, system_log=False)"
   ],
   "outputs": [
    {
     "data": {
      "text/plain": [
       "<pandas.io.formats.style.Styler at 0x16cbe67c970>"
      ],
      "text/html": [
       "<style type=\"text/css\">\n",
       "#T_02532_row4_col1 {\n",
       "  background-color: lightgreen;\n",
       "}\n",
       "</style>\n",
       "<table id=\"T_02532\">\n",
       "  <thead>\n",
       "    <tr>\n",
       "      <th class=\"blank level0\" >&nbsp;</th>\n",
       "      <th id=\"T_02532_level0_col0\" class=\"col_heading level0 col0\" >Description</th>\n",
       "      <th id=\"T_02532_level0_col1\" class=\"col_heading level0 col1\" >Value</th>\n",
       "    </tr>\n",
       "  </thead>\n",
       "  <tbody>\n",
       "    <tr>\n",
       "      <th id=\"T_02532_level0_row0\" class=\"row_heading level0 row0\" >0</th>\n",
       "      <td id=\"T_02532_row0_col0\" class=\"data row0 col0\" >Session id</td>\n",
       "      <td id=\"T_02532_row0_col1\" class=\"data row0 col1\" >123</td>\n",
       "    </tr>\n",
       "    <tr>\n",
       "      <th id=\"T_02532_level0_row1\" class=\"row_heading level0 row1\" >1</th>\n",
       "      <td id=\"T_02532_row1_col0\" class=\"data row1 col0\" >Original data shape</td>\n",
       "      <td id=\"T_02532_row1_col1\" class=\"data row1 col1\" >(88, 1)</td>\n",
       "    </tr>\n",
       "    <tr>\n",
       "      <th id=\"T_02532_level0_row2\" class=\"row_heading level0 row2\" >2</th>\n",
       "      <td id=\"T_02532_row2_col0\" class=\"data row2 col0\" >Transformed data shape</td>\n",
       "      <td id=\"T_02532_row2_col1\" class=\"data row2 col1\" >(88, 1)</td>\n",
       "    </tr>\n",
       "    <tr>\n",
       "      <th id=\"T_02532_level0_row3\" class=\"row_heading level0 row3\" >3</th>\n",
       "      <td id=\"T_02532_row3_col0\" class=\"data row3 col0\" >Numeric features</td>\n",
       "      <td id=\"T_02532_row3_col1\" class=\"data row3 col1\" >1</td>\n",
       "    </tr>\n",
       "    <tr>\n",
       "      <th id=\"T_02532_level0_row4\" class=\"row_heading level0 row4\" >4</th>\n",
       "      <td id=\"T_02532_row4_col0\" class=\"data row4 col0\" >Preprocess</td>\n",
       "      <td id=\"T_02532_row4_col1\" class=\"data row4 col1\" >True</td>\n",
       "    </tr>\n",
       "    <tr>\n",
       "      <th id=\"T_02532_level0_row5\" class=\"row_heading level0 row5\" >5</th>\n",
       "      <td id=\"T_02532_row5_col0\" class=\"data row5 col0\" >Imputation type</td>\n",
       "      <td id=\"T_02532_row5_col1\" class=\"data row5 col1\" >simple</td>\n",
       "    </tr>\n",
       "    <tr>\n",
       "      <th id=\"T_02532_level0_row6\" class=\"row_heading level0 row6\" >6</th>\n",
       "      <td id=\"T_02532_row6_col0\" class=\"data row6 col0\" >Numeric imputation</td>\n",
       "      <td id=\"T_02532_row6_col1\" class=\"data row6 col1\" >mean</td>\n",
       "    </tr>\n",
       "    <tr>\n",
       "      <th id=\"T_02532_level0_row7\" class=\"row_heading level0 row7\" >7</th>\n",
       "      <td id=\"T_02532_row7_col0\" class=\"data row7 col0\" >Categorical imputation</td>\n",
       "      <td id=\"T_02532_row7_col1\" class=\"data row7 col1\" >mode</td>\n",
       "    </tr>\n",
       "    <tr>\n",
       "      <th id=\"T_02532_level0_row8\" class=\"row_heading level0 row8\" >8</th>\n",
       "      <td id=\"T_02532_row8_col0\" class=\"data row8 col0\" >CPU Jobs</td>\n",
       "      <td id=\"T_02532_row8_col1\" class=\"data row8 col1\" >-1</td>\n",
       "    </tr>\n",
       "    <tr>\n",
       "      <th id=\"T_02532_level0_row9\" class=\"row_heading level0 row9\" >9</th>\n",
       "      <td id=\"T_02532_row9_col0\" class=\"data row9 col0\" >Use GPU</td>\n",
       "      <td id=\"T_02532_row9_col1\" class=\"data row9 col1\" >False</td>\n",
       "    </tr>\n",
       "    <tr>\n",
       "      <th id=\"T_02532_level0_row10\" class=\"row_heading level0 row10\" >10</th>\n",
       "      <td id=\"T_02532_row10_col0\" class=\"data row10 col0\" >Log Experiment</td>\n",
       "      <td id=\"T_02532_row10_col1\" class=\"data row10 col1\" >False</td>\n",
       "    </tr>\n",
       "    <tr>\n",
       "      <th id=\"T_02532_level0_row11\" class=\"row_heading level0 row11\" >11</th>\n",
       "      <td id=\"T_02532_row11_col0\" class=\"data row11 col0\" >Experiment Name</td>\n",
       "      <td id=\"T_02532_row11_col1\" class=\"data row11 col1\" >anomaly-default-name</td>\n",
       "    </tr>\n",
       "    <tr>\n",
       "      <th id=\"T_02532_level0_row12\" class=\"row_heading level0 row12\" >12</th>\n",
       "      <td id=\"T_02532_row12_col0\" class=\"data row12 col0\" >USI</td>\n",
       "      <td id=\"T_02532_row12_col1\" class=\"data row12 col1\" >be6f</td>\n",
       "    </tr>\n",
       "  </tbody>\n",
       "</table>\n"
      ]
     },
     "metadata": {},
     "output_type": "display_data"
    }
   ],
   "execution_count": 6
  },
  {
   "cell_type": "code",
   "metadata": {
    "ExecuteTime": {
     "end_time": "2024-05-16T01:00:11.755035Z",
     "start_time": "2024-05-16T01:00:11.740485Z"
    }
   },
   "source": [
    "models()"
   ],
   "outputs": [
    {
     "data": {
      "text/plain": [
       "                                        Name  \\\n",
       "ID                                             \n",
       "abod            Angle-base Outlier Detection   \n",
       "cluster       Clustering-Based Local Outlier   \n",
       "cof         Connectivity-Based Local Outlier   \n",
       "iforest                     Isolation Forest   \n",
       "histogram  Histogram-based Outlier Detection   \n",
       "knn             K-Nearest Neighbors Detector   \n",
       "lof                     Local Outlier Factor   \n",
       "svm                   One-class SVM detector   \n",
       "pca             Principal Component Analysis   \n",
       "mcd           Minimum Covariance Determinant   \n",
       "sod               Subspace Outlier Detection   \n",
       "sos             Stochastic Outlier Selection   \n",
       "\n",
       "                                                  Reference  \n",
       "ID                                                           \n",
       "abod                                  pyod.models.abod.ABOD  \n",
       "cluster    pycaret.internal.patches.pyod.CBLOFForceToDouble  \n",
       "cof                                     pyod.models.cof.COF  \n",
       "iforest                         pyod.models.iforest.IForest  \n",
       "histogram                             pyod.models.hbos.HBOS  \n",
       "knn                                     pyod.models.knn.KNN  \n",
       "lof                                     pyod.models.lof.LOF  \n",
       "svm                                 pyod.models.ocsvm.OCSVM  \n",
       "pca                                     pyod.models.pca.PCA  \n",
       "mcd                                     pyod.models.mcd.MCD  \n",
       "sod                                     pyod.models.sod.SOD  \n",
       "sos                                     pyod.models.sos.SOS  "
      ],
      "text/html": [
       "<div>\n",
       "<style scoped>\n",
       "    .dataframe tbody tr th:only-of-type {\n",
       "        vertical-align: middle;\n",
       "    }\n",
       "\n",
       "    .dataframe tbody tr th {\n",
       "        vertical-align: top;\n",
       "    }\n",
       "\n",
       "    .dataframe thead th {\n",
       "        text-align: right;\n",
       "    }\n",
       "</style>\n",
       "<table border=\"1\" class=\"dataframe\">\n",
       "  <thead>\n",
       "    <tr style=\"text-align: right;\">\n",
       "      <th></th>\n",
       "      <th>Name</th>\n",
       "      <th>Reference</th>\n",
       "    </tr>\n",
       "    <tr>\n",
       "      <th>ID</th>\n",
       "      <th></th>\n",
       "      <th></th>\n",
       "    </tr>\n",
       "  </thead>\n",
       "  <tbody>\n",
       "    <tr>\n",
       "      <th>abod</th>\n",
       "      <td>Angle-base Outlier Detection</td>\n",
       "      <td>pyod.models.abod.ABOD</td>\n",
       "    </tr>\n",
       "    <tr>\n",
       "      <th>cluster</th>\n",
       "      <td>Clustering-Based Local Outlier</td>\n",
       "      <td>pycaret.internal.patches.pyod.CBLOFForceToDouble</td>\n",
       "    </tr>\n",
       "    <tr>\n",
       "      <th>cof</th>\n",
       "      <td>Connectivity-Based Local Outlier</td>\n",
       "      <td>pyod.models.cof.COF</td>\n",
       "    </tr>\n",
       "    <tr>\n",
       "      <th>iforest</th>\n",
       "      <td>Isolation Forest</td>\n",
       "      <td>pyod.models.iforest.IForest</td>\n",
       "    </tr>\n",
       "    <tr>\n",
       "      <th>histogram</th>\n",
       "      <td>Histogram-based Outlier Detection</td>\n",
       "      <td>pyod.models.hbos.HBOS</td>\n",
       "    </tr>\n",
       "    <tr>\n",
       "      <th>knn</th>\n",
       "      <td>K-Nearest Neighbors Detector</td>\n",
       "      <td>pyod.models.knn.KNN</td>\n",
       "    </tr>\n",
       "    <tr>\n",
       "      <th>lof</th>\n",
       "      <td>Local Outlier Factor</td>\n",
       "      <td>pyod.models.lof.LOF</td>\n",
       "    </tr>\n",
       "    <tr>\n",
       "      <th>svm</th>\n",
       "      <td>One-class SVM detector</td>\n",
       "      <td>pyod.models.ocsvm.OCSVM</td>\n",
       "    </tr>\n",
       "    <tr>\n",
       "      <th>pca</th>\n",
       "      <td>Principal Component Analysis</td>\n",
       "      <td>pyod.models.pca.PCA</td>\n",
       "    </tr>\n",
       "    <tr>\n",
       "      <th>mcd</th>\n",
       "      <td>Minimum Covariance Determinant</td>\n",
       "      <td>pyod.models.mcd.MCD</td>\n",
       "    </tr>\n",
       "    <tr>\n",
       "      <th>sod</th>\n",
       "      <td>Subspace Outlier Detection</td>\n",
       "      <td>pyod.models.sod.SOD</td>\n",
       "    </tr>\n",
       "    <tr>\n",
       "      <th>sos</th>\n",
       "      <td>Stochastic Outlier Selection</td>\n",
       "      <td>pyod.models.sos.SOS</td>\n",
       "    </tr>\n",
       "  </tbody>\n",
       "</table>\n",
       "</div>"
      ]
     },
     "execution_count": 7,
     "metadata": {},
     "output_type": "execute_result"
    }
   ],
   "execution_count": 7
  },
  {
   "cell_type": "code",
   "metadata": {
    "ExecuteTime": {
     "end_time": "2024-05-16T01:00:12.145666Z",
     "start_time": "2024-05-16T01:00:11.756625Z"
    }
   },
   "source": [
    "iforest = create_model('iforest')"
   ],
   "outputs": [
    {
     "data": {
      "text/plain": [
       "                                                                    \n",
       "                                                                    \n",
       "Initiated  . . . . . . . . . . . . . . . . . .              22:00:11\n",
       "Status     . . . . . . . . . . . . . . . . . .  Loading Dependencies\n",
       "Estimator  . . . . . . . . . . . . . . . . . .     Compiling Library"
      ],
      "text/html": [
       "<div>\n",
       "<style scoped>\n",
       "    .dataframe tbody tr th:only-of-type {\n",
       "        vertical-align: middle;\n",
       "    }\n",
       "\n",
       "    .dataframe tbody tr th {\n",
       "        vertical-align: top;\n",
       "    }\n",
       "\n",
       "    .dataframe thead th {\n",
       "        text-align: right;\n",
       "    }\n",
       "</style>\n",
       "<table border=\"1\" class=\"dataframe\">\n",
       "  <thead>\n",
       "    <tr style=\"text-align: right;\">\n",
       "      <th></th>\n",
       "      <th></th>\n",
       "      <th></th>\n",
       "    </tr>\n",
       "    <tr>\n",
       "      <th></th>\n",
       "      <th></th>\n",
       "      <th></th>\n",
       "    </tr>\n",
       "  </thead>\n",
       "  <tbody>\n",
       "    <tr>\n",
       "      <th>Initiated</th>\n",
       "      <td>. . . . . . . . . . . . . . . . . .</td>\n",
       "      <td>22:00:11</td>\n",
       "    </tr>\n",
       "    <tr>\n",
       "      <th>Status</th>\n",
       "      <td>. . . . . . . . . . . . . . . . . .</td>\n",
       "      <td>Loading Dependencies</td>\n",
       "    </tr>\n",
       "    <tr>\n",
       "      <th>Estimator</th>\n",
       "      <td>. . . . . . . . . . . . . . . . . .</td>\n",
       "      <td>Compiling Library</td>\n",
       "    </tr>\n",
       "  </tbody>\n",
       "</table>\n",
       "</div>"
      ]
     },
     "metadata": {},
     "output_type": "display_data"
    },
    {
     "data": {
      "text/plain": [
       "<IPython.core.display.HTML object>"
      ],
      "text/html": []
     },
     "metadata": {},
     "output_type": "display_data"
    },
    {
     "data": {
      "text/plain": [
       "<IPython.core.display.HTML object>"
      ],
      "text/html": []
     },
     "metadata": {},
     "output_type": "display_data"
    }
   ],
   "execution_count": 8
  },
  {
   "cell_type": "code",
   "metadata": {
    "ExecuteTime": {
     "end_time": "2024-05-16T01:00:12.161585Z",
     "start_time": "2024-05-16T01:00:12.147706Z"
    }
   },
   "source": [
    "iforest"
   ],
   "outputs": [
    {
     "data": {
      "text/plain": [
       "IForest(behaviour='new', bootstrap=False, contamination=0.05,\n",
       "    max_features=1.0, max_samples='auto', n_estimators=100, n_jobs=-1,\n",
       "    random_state=123, verbose=0)"
      ]
     },
     "execution_count": 9,
     "metadata": {},
     "output_type": "execute_result"
    }
   ],
   "execution_count": 9
  },
  {
   "cell_type": "code",
   "metadata": {
    "scrolled": false,
    "ExecuteTime": {
     "end_time": "2024-05-16T01:00:29.057814Z",
     "start_time": "2024-05-16T01:00:12.163560Z"
    }
   },
   "source": [
    "plot_model(iforest, plot='umap', label=True)"
   ],
   "outputs": [
    {
     "data": {
      "text/plain": [
       "<IPython.core.display.HTML object>"
      ],
      "text/html": []
     },
     "metadata": {},
     "output_type": "display_data"
    },
    {
     "data": {
      "text/html": [
       "        <script type=\"text/javascript\">\n",
       "        window.PlotlyConfig = {MathJaxConfig: 'local'};\n",
       "        if (window.MathJax && window.MathJax.Hub && window.MathJax.Hub.Config) {window.MathJax.Hub.Config({SVG: {font: \"STIX-Web\"}});}\n",
       "        if (typeof require !== 'undefined') {\n",
       "        require.undef(\"plotly\");\n",
       "        requirejs.config({\n",
       "            paths: {\n",
       "                'plotly': ['https://cdn.plot.ly/plotly-2.26.0.min']\n",
       "            }\n",
       "        });\n",
       "        require(['plotly'], function(Plotly) {\n",
       "            window._Plotly = Plotly;\n",
       "        });\n",
       "        }\n",
       "        </script>\n",
       "        "
      ]
     },
     "metadata": {},
     "output_type": "display_data"
    },
    {
     "data": {
      "text/html": [
       "<div>                            <div id=\"0ae7ff21-1a38-4cb7-975c-fea6ac80c1bf\" class=\"plotly-graph-div\" style=\"height:800px; width:900px;\"></div>            <script type=\"text/javascript\">                require([\"plotly\"], function(Plotly) {                    window.PLOTLYENV=window.PLOTLYENV || {};                                    if (document.getElementById(\"0ae7ff21-1a38-4cb7-975c-fea6ac80c1bf\")) {                    Plotly.newPlot(                        \"0ae7ff21-1a38-4cb7-975c-fea6ac80c1bf\",                        [{\"customdata\":[[3],[8],[7],[4],[3],[5],[6],[24],[11],[2],[4],[2],[45],[109],[5],[72],[4],[41],[12],[17],[6],[40],[4],[5],[2],[35],[1],[248],[1],[4],[1],[2],[6],[45],[1261],[51],[1],[3],[6],[144],[1],[22],[5],[1],[14],[134],[6],[17],[1],[1],[117],[2],[3],[1],[12],[1],[9],[1],[9],[4],[3],[2],[82],[7],[10],[38],[6],[36],[26],[25],[105],[1],[3],[4],[3],[27],[2],[1],[1],[1],[1],[1],[2],[4],[6],[4],[603],[34]],\"hovertemplate\":\"0=%{x}\\u003cbr\\u003e1=%{y}\\u003cbr\\u003eFeature=%{customdata[0]}\\u003cbr\\u003eAnomaly=%{marker.color}\\u003cextra\\u003e\\u003c\\u002fextra\\u003e\",\"legendgroup\":\"\",\"marker\":{\"color\":[0,0,0,0,0,0,0,0,0,0,0,0,0,0,0,0,0,0,0,0,0,0,0,0,0,0,0,1,0,0,0,0,0,0,1,0,0,0,0,1,0,0,0,0,0,1,0,0,0,0,0,0,0,0,0,0,0,0,0,0,0,0,0,0,0,0,0,0,0,0,0,0,0,0,0,0,0,0,0,0,0,0,0,0,0,0,1,0],\"coloraxis\":\"coloraxis\",\"opacity\":0.7,\"symbol\":\"circle\"},\"mode\":\"markers\",\"name\":\"\",\"orientation\":\"v\",\"showlegend\":false,\"x\":[-4.9203234,-3.2907312,-6.4296603,-5.314882,-4.876654,-6.033936,-6.2264132,-3.373515,-3.7707448,-4.0944996,-5.0842304,-4.0562034,-3.4879951,-4.3429723,-5.8378086,-3.871371,-5.0558333,-2.995651,-3.566302,-3.5139487,-6.1115427,-3.0581026,-5.062896,-5.7638884,-3.9888892,-3.0390596,-2.7095022,-4.2472296,-3.1479542,-4.831529,-3.7812557,-4.466344,-6.460201,-3.2849376,-3.8384602,-3.3737814,-3.3466582,-4.593227,-5.9210143,-4.446927,-3.844519,-3.269676,-5.473001,-3.172344,-3.6920357,-4.4425464,-6.2978907,-3.3533757,-3.3314764,-3.684456,-4.2103143,-4.3135486,-4.5566583,-3.509992,-3.8715181,-2.7138677,-3.5157585,-2.914515,-3.5539098,-5.346886,-4.9903126,-4.5513625,-4.0493317,-6.30989,-3.572012,-2.881408,-6.209686,-2.8090177,-3.2153568,-3.327687,-4.345016,-2.993826,-5.2146354,-4.7850213,-4.950313,-3.1176705,-4.3921576,-3.0517263,-2.9925363,-3.3705413,-3.2577567,-3.435494,-3.9194224,-5.5726933,-6.208878,-5.415507,-3.8592308,-3.1228192],\"xaxis\":\"x\",\"y\":[9.440053,1.9271799,11.961211,10.321616,9.585509,10.964846,11.84731,-0.37127107,1.2415066,8.8306675,10.757608,8.739755,-2.3786893,-2.8905158,11.223245,-2.5722423,10.609239,-2.5015051,1.0290797,0.4152296,11.445201,-2.3699074,10.228821,11.201393,9.330026,-1.8814077,8.190779,-3.193364,8.163453,10.296027,8.339654,8.941091,11.421966,-2.5291905,-3.139496,-2.4648643,8.739321,9.8144455,11.691714,-2.9194672,8.248319,-0.3656712,10.98665,8.023371,0.78844255,-3.047972,11.609052,0.2773767,7.9007764,8.407115,-2.926222,9.143289,9.769694,8.605036,0.8776146,7.984378,1.6676699,8.396284,1.5802467,10.504465,9.544072,9.0315,-2.5516956,11.952922,1.288012,-2.280721,11.60892,-1.841122,-0.55901176,-0.5224193,-2.6535046,8.460495,9.846132,10.521958,9.9751,-0.7213323,8.610925,7.6802855,7.9750686,7.9618945,8.274792,8.068098,8.962855,10.476848,11.596962,10.043927,-3.042315,-1.7089088],\"yaxis\":\"y\",\"type\":\"scatter\"}],                        {\"template\":{\"data\":{\"histogram2dcontour\":[{\"type\":\"histogram2dcontour\",\"colorbar\":{\"outlinewidth\":0,\"ticks\":\"\"},\"colorscale\":[[0.0,\"#0d0887\"],[0.1111111111111111,\"#46039f\"],[0.2222222222222222,\"#7201a8\"],[0.3333333333333333,\"#9c179e\"],[0.4444444444444444,\"#bd3786\"],[0.5555555555555556,\"#d8576b\"],[0.6666666666666666,\"#ed7953\"],[0.7777777777777778,\"#fb9f3a\"],[0.8888888888888888,\"#fdca26\"],[1.0,\"#f0f921\"]]}],\"choropleth\":[{\"type\":\"choropleth\",\"colorbar\":{\"outlinewidth\":0,\"ticks\":\"\"}}],\"histogram2d\":[{\"type\":\"histogram2d\",\"colorbar\":{\"outlinewidth\":0,\"ticks\":\"\"},\"colorscale\":[[0.0,\"#0d0887\"],[0.1111111111111111,\"#46039f\"],[0.2222222222222222,\"#7201a8\"],[0.3333333333333333,\"#9c179e\"],[0.4444444444444444,\"#bd3786\"],[0.5555555555555556,\"#d8576b\"],[0.6666666666666666,\"#ed7953\"],[0.7777777777777778,\"#fb9f3a\"],[0.8888888888888888,\"#fdca26\"],[1.0,\"#f0f921\"]]}],\"heatmap\":[{\"type\":\"heatmap\",\"colorbar\":{\"outlinewidth\":0,\"ticks\":\"\"},\"colorscale\":[[0.0,\"#0d0887\"],[0.1111111111111111,\"#46039f\"],[0.2222222222222222,\"#7201a8\"],[0.3333333333333333,\"#9c179e\"],[0.4444444444444444,\"#bd3786\"],[0.5555555555555556,\"#d8576b\"],[0.6666666666666666,\"#ed7953\"],[0.7777777777777778,\"#fb9f3a\"],[0.8888888888888888,\"#fdca26\"],[1.0,\"#f0f921\"]]}],\"heatmapgl\":[{\"type\":\"heatmapgl\",\"colorbar\":{\"outlinewidth\":0,\"ticks\":\"\"},\"colorscale\":[[0.0,\"#0d0887\"],[0.1111111111111111,\"#46039f\"],[0.2222222222222222,\"#7201a8\"],[0.3333333333333333,\"#9c179e\"],[0.4444444444444444,\"#bd3786\"],[0.5555555555555556,\"#d8576b\"],[0.6666666666666666,\"#ed7953\"],[0.7777777777777778,\"#fb9f3a\"],[0.8888888888888888,\"#fdca26\"],[1.0,\"#f0f921\"]]}],\"contourcarpet\":[{\"type\":\"contourcarpet\",\"colorbar\":{\"outlinewidth\":0,\"ticks\":\"\"}}],\"contour\":[{\"type\":\"contour\",\"colorbar\":{\"outlinewidth\":0,\"ticks\":\"\"},\"colorscale\":[[0.0,\"#0d0887\"],[0.1111111111111111,\"#46039f\"],[0.2222222222222222,\"#7201a8\"],[0.3333333333333333,\"#9c179e\"],[0.4444444444444444,\"#bd3786\"],[0.5555555555555556,\"#d8576b\"],[0.6666666666666666,\"#ed7953\"],[0.7777777777777778,\"#fb9f3a\"],[0.8888888888888888,\"#fdca26\"],[1.0,\"#f0f921\"]]}],\"surface\":[{\"type\":\"surface\",\"colorbar\":{\"outlinewidth\":0,\"ticks\":\"\"},\"colorscale\":[[0.0,\"#0d0887\"],[0.1111111111111111,\"#46039f\"],[0.2222222222222222,\"#7201a8\"],[0.3333333333333333,\"#9c179e\"],[0.4444444444444444,\"#bd3786\"],[0.5555555555555556,\"#d8576b\"],[0.6666666666666666,\"#ed7953\"],[0.7777777777777778,\"#fb9f3a\"],[0.8888888888888888,\"#fdca26\"],[1.0,\"#f0f921\"]]}],\"mesh3d\":[{\"type\":\"mesh3d\",\"colorbar\":{\"outlinewidth\":0,\"ticks\":\"\"}}],\"scatter\":[{\"fillpattern\":{\"fillmode\":\"overlay\",\"size\":10,\"solidity\":0.2},\"type\":\"scatter\"}],\"parcoords\":[{\"type\":\"parcoords\",\"line\":{\"colorbar\":{\"outlinewidth\":0,\"ticks\":\"\"}}}],\"scatterpolargl\":[{\"type\":\"scatterpolargl\",\"marker\":{\"colorbar\":{\"outlinewidth\":0,\"ticks\":\"\"}}}],\"bar\":[{\"error_x\":{\"color\":\"#2a3f5f\"},\"error_y\":{\"color\":\"#2a3f5f\"},\"marker\":{\"line\":{\"color\":\"#E5ECF6\",\"width\":0.5},\"pattern\":{\"fillmode\":\"overlay\",\"size\":10,\"solidity\":0.2}},\"type\":\"bar\"}],\"scattergeo\":[{\"type\":\"scattergeo\",\"marker\":{\"colorbar\":{\"outlinewidth\":0,\"ticks\":\"\"}}}],\"scatterpolar\":[{\"type\":\"scatterpolar\",\"marker\":{\"colorbar\":{\"outlinewidth\":0,\"ticks\":\"\"}}}],\"histogram\":[{\"marker\":{\"pattern\":{\"fillmode\":\"overlay\",\"size\":10,\"solidity\":0.2}},\"type\":\"histogram\"}],\"scattergl\":[{\"type\":\"scattergl\",\"marker\":{\"colorbar\":{\"outlinewidth\":0,\"ticks\":\"\"}}}],\"scatter3d\":[{\"type\":\"scatter3d\",\"line\":{\"colorbar\":{\"outlinewidth\":0,\"ticks\":\"\"}},\"marker\":{\"colorbar\":{\"outlinewidth\":0,\"ticks\":\"\"}}}],\"scattermapbox\":[{\"type\":\"scattermapbox\",\"marker\":{\"colorbar\":{\"outlinewidth\":0,\"ticks\":\"\"}}}],\"scatterternary\":[{\"type\":\"scatterternary\",\"marker\":{\"colorbar\":{\"outlinewidth\":0,\"ticks\":\"\"}}}],\"scattercarpet\":[{\"type\":\"scattercarpet\",\"marker\":{\"colorbar\":{\"outlinewidth\":0,\"ticks\":\"\"}}}],\"carpet\":[{\"aaxis\":{\"endlinecolor\":\"#2a3f5f\",\"gridcolor\":\"white\",\"linecolor\":\"white\",\"minorgridcolor\":\"white\",\"startlinecolor\":\"#2a3f5f\"},\"baxis\":{\"endlinecolor\":\"#2a3f5f\",\"gridcolor\":\"white\",\"linecolor\":\"white\",\"minorgridcolor\":\"white\",\"startlinecolor\":\"#2a3f5f\"},\"type\":\"carpet\"}],\"table\":[{\"cells\":{\"fill\":{\"color\":\"#EBF0F8\"},\"line\":{\"color\":\"white\"}},\"header\":{\"fill\":{\"color\":\"#C8D4E3\"},\"line\":{\"color\":\"white\"}},\"type\":\"table\"}],\"barpolar\":[{\"marker\":{\"line\":{\"color\":\"#E5ECF6\",\"width\":0.5},\"pattern\":{\"fillmode\":\"overlay\",\"size\":10,\"solidity\":0.2}},\"type\":\"barpolar\"}],\"pie\":[{\"automargin\":true,\"type\":\"pie\"}]},\"layout\":{\"autotypenumbers\":\"strict\",\"colorway\":[\"#636efa\",\"#EF553B\",\"#00cc96\",\"#ab63fa\",\"#FFA15A\",\"#19d3f3\",\"#FF6692\",\"#B6E880\",\"#FF97FF\",\"#FECB52\"],\"font\":{\"color\":\"#2a3f5f\"},\"hovermode\":\"closest\",\"hoverlabel\":{\"align\":\"left\"},\"paper_bgcolor\":\"white\",\"plot_bgcolor\":\"#E5ECF6\",\"polar\":{\"bgcolor\":\"#E5ECF6\",\"angularaxis\":{\"gridcolor\":\"white\",\"linecolor\":\"white\",\"ticks\":\"\"},\"radialaxis\":{\"gridcolor\":\"white\",\"linecolor\":\"white\",\"ticks\":\"\"}},\"ternary\":{\"bgcolor\":\"#E5ECF6\",\"aaxis\":{\"gridcolor\":\"white\",\"linecolor\":\"white\",\"ticks\":\"\"},\"baxis\":{\"gridcolor\":\"white\",\"linecolor\":\"white\",\"ticks\":\"\"},\"caxis\":{\"gridcolor\":\"white\",\"linecolor\":\"white\",\"ticks\":\"\"}},\"coloraxis\":{\"colorbar\":{\"outlinewidth\":0,\"ticks\":\"\"}},\"colorscale\":{\"sequential\":[[0.0,\"#0d0887\"],[0.1111111111111111,\"#46039f\"],[0.2222222222222222,\"#7201a8\"],[0.3333333333333333,\"#9c179e\"],[0.4444444444444444,\"#bd3786\"],[0.5555555555555556,\"#d8576b\"],[0.6666666666666666,\"#ed7953\"],[0.7777777777777778,\"#fb9f3a\"],[0.8888888888888888,\"#fdca26\"],[1.0,\"#f0f921\"]],\"sequentialminus\":[[0.0,\"#0d0887\"],[0.1111111111111111,\"#46039f\"],[0.2222222222222222,\"#7201a8\"],[0.3333333333333333,\"#9c179e\"],[0.4444444444444444,\"#bd3786\"],[0.5555555555555556,\"#d8576b\"],[0.6666666666666666,\"#ed7953\"],[0.7777777777777778,\"#fb9f3a\"],[0.8888888888888888,\"#fdca26\"],[1.0,\"#f0f921\"]],\"diverging\":[[0,\"#8e0152\"],[0.1,\"#c51b7d\"],[0.2,\"#de77ae\"],[0.3,\"#f1b6da\"],[0.4,\"#fde0ef\"],[0.5,\"#f7f7f7\"],[0.6,\"#e6f5d0\"],[0.7,\"#b8e186\"],[0.8,\"#7fbc41\"],[0.9,\"#4d9221\"],[1,\"#276419\"]]},\"xaxis\":{\"gridcolor\":\"white\",\"linecolor\":\"white\",\"ticks\":\"\",\"title\":{\"standoff\":15},\"zerolinecolor\":\"white\",\"automargin\":true,\"zerolinewidth\":2},\"yaxis\":{\"gridcolor\":\"white\",\"linecolor\":\"white\",\"ticks\":\"\",\"title\":{\"standoff\":15},\"zerolinecolor\":\"white\",\"automargin\":true,\"zerolinewidth\":2},\"scene\":{\"xaxis\":{\"backgroundcolor\":\"#E5ECF6\",\"gridcolor\":\"white\",\"linecolor\":\"white\",\"showbackground\":true,\"ticks\":\"\",\"zerolinecolor\":\"white\",\"gridwidth\":2},\"yaxis\":{\"backgroundcolor\":\"#E5ECF6\",\"gridcolor\":\"white\",\"linecolor\":\"white\",\"showbackground\":true,\"ticks\":\"\",\"zerolinecolor\":\"white\",\"gridwidth\":2},\"zaxis\":{\"backgroundcolor\":\"#E5ECF6\",\"gridcolor\":\"white\",\"linecolor\":\"white\",\"showbackground\":true,\"ticks\":\"\",\"zerolinecolor\":\"white\",\"gridwidth\":2}},\"shapedefaults\":{\"line\":{\"color\":\"#2a3f5f\"}},\"annotationdefaults\":{\"arrowcolor\":\"#2a3f5f\",\"arrowhead\":0,\"arrowwidth\":1},\"geo\":{\"bgcolor\":\"white\",\"landcolor\":\"#E5ECF6\",\"subunitcolor\":\"white\",\"showland\":true,\"showlakes\":true,\"lakecolor\":\"white\"},\"title\":{\"x\":0.05},\"mapbox\":{\"style\":\"light\"}}},\"xaxis\":{\"anchor\":\"y\",\"domain\":[0.0,1.0],\"title\":{\"text\":\"0\"}},\"yaxis\":{\"anchor\":\"x\",\"domain\":[0.0,1.0],\"title\":{\"text\":\"1\"}},\"coloraxis\":{\"colorbar\":{\"title\":{\"text\":\"Anomaly\"}},\"colorscale\":[[0.0,\"#0d0887\"],[0.1111111111111111,\"#46039f\"],[0.2222222222222222,\"#7201a8\"],[0.3333333333333333,\"#9c179e\"],[0.4444444444444444,\"#bd3786\"],[0.5555555555555556,\"#d8576b\"],[0.6666666666666666,\"#ed7953\"],[0.7777777777777778,\"#fb9f3a\"],[0.8888888888888888,\"#fdca26\"],[1.0,\"#f0f921\"]]},\"legend\":{\"tracegroupgap\":0},\"title\":{\"text\":\"uMAP Plot for Outliers\"},\"height\":800,\"width\":900},                        {\"responsive\": true}                    ).then(function(){\n",
       "                            \n",
       "var gd = document.getElementById('0ae7ff21-1a38-4cb7-975c-fea6ac80c1bf');\n",
       "var x = new MutationObserver(function (mutations, observer) {{\n",
       "        var display = window.getComputedStyle(gd).display;\n",
       "        if (!display || display === 'none') {{\n",
       "            console.log([gd, 'removed!']);\n",
       "            Plotly.purge(gd);\n",
       "            observer.disconnect();\n",
       "        }}\n",
       "}});\n",
       "\n",
       "// Listen for the removal of the full notebook cells\n",
       "var notebookContainer = gd.closest('#notebook-container');\n",
       "if (notebookContainer) {{\n",
       "    x.observe(notebookContainer, {childList: true});\n",
       "}}\n",
       "\n",
       "// Listen for the clearing of the current output cell\n",
       "var outputEl = gd.closest('.output');\n",
       "if (outputEl) {{\n",
       "    x.observe(outputEl, {childList: true});\n",
       "}}\n",
       "\n",
       "                        })                };                });            </script>        </div>"
      ]
     },
     "metadata": {},
     "output_type": "display_data"
    }
   ],
   "execution_count": 10
  },
  {
   "cell_type": "code",
   "metadata": {
    "ExecuteTime": {
     "end_time": "2024-05-16T01:00:29.073619Z",
     "start_time": "2024-05-16T01:00:29.059813Z"
    }
   },
   "source": [
    "result = assign_model(iforest)\n",
    "result"
   ],
   "outputs": [
    {
     "data": {
      "text/plain": [
       "    Notificações  Anomaly  Anomaly_Score\n",
       "0              3        0      -0.226894\n",
       "1              8        0      -0.186863\n",
       "2              7        0      -0.211619\n",
       "3              4        0      -0.234642\n",
       "4              3        0      -0.226894\n",
       "..           ...      ...            ...\n",
       "83             4        0      -0.234642\n",
       "84             6        0      -0.227959\n",
       "85             4        0      -0.234642\n",
       "86           603        1       0.215896\n",
       "87            34        0      -0.127044\n",
       "\n",
       "[88 rows x 3 columns]"
      ],
      "text/html": [
       "<div>\n",
       "<style scoped>\n",
       "    .dataframe tbody tr th:only-of-type {\n",
       "        vertical-align: middle;\n",
       "    }\n",
       "\n",
       "    .dataframe tbody tr th {\n",
       "        vertical-align: top;\n",
       "    }\n",
       "\n",
       "    .dataframe thead th {\n",
       "        text-align: right;\n",
       "    }\n",
       "</style>\n",
       "<table border=\"1\" class=\"dataframe\">\n",
       "  <thead>\n",
       "    <tr style=\"text-align: right;\">\n",
       "      <th></th>\n",
       "      <th>Notificações</th>\n",
       "      <th>Anomaly</th>\n",
       "      <th>Anomaly_Score</th>\n",
       "    </tr>\n",
       "  </thead>\n",
       "  <tbody>\n",
       "    <tr>\n",
       "      <th>0</th>\n",
       "      <td>3</td>\n",
       "      <td>0</td>\n",
       "      <td>-0.226894</td>\n",
       "    </tr>\n",
       "    <tr>\n",
       "      <th>1</th>\n",
       "      <td>8</td>\n",
       "      <td>0</td>\n",
       "      <td>-0.186863</td>\n",
       "    </tr>\n",
       "    <tr>\n",
       "      <th>2</th>\n",
       "      <td>7</td>\n",
       "      <td>0</td>\n",
       "      <td>-0.211619</td>\n",
       "    </tr>\n",
       "    <tr>\n",
       "      <th>3</th>\n",
       "      <td>4</td>\n",
       "      <td>0</td>\n",
       "      <td>-0.234642</td>\n",
       "    </tr>\n",
       "    <tr>\n",
       "      <th>4</th>\n",
       "      <td>3</td>\n",
       "      <td>0</td>\n",
       "      <td>-0.226894</td>\n",
       "    </tr>\n",
       "    <tr>\n",
       "      <th>...</th>\n",
       "      <td>...</td>\n",
       "      <td>...</td>\n",
       "      <td>...</td>\n",
       "    </tr>\n",
       "    <tr>\n",
       "      <th>83</th>\n",
       "      <td>4</td>\n",
       "      <td>0</td>\n",
       "      <td>-0.234642</td>\n",
       "    </tr>\n",
       "    <tr>\n",
       "      <th>84</th>\n",
       "      <td>6</td>\n",
       "      <td>0</td>\n",
       "      <td>-0.227959</td>\n",
       "    </tr>\n",
       "    <tr>\n",
       "      <th>85</th>\n",
       "      <td>4</td>\n",
       "      <td>0</td>\n",
       "      <td>-0.234642</td>\n",
       "    </tr>\n",
       "    <tr>\n",
       "      <th>86</th>\n",
       "      <td>603</td>\n",
       "      <td>1</td>\n",
       "      <td>0.215896</td>\n",
       "    </tr>\n",
       "    <tr>\n",
       "      <th>87</th>\n",
       "      <td>34</td>\n",
       "      <td>0</td>\n",
       "      <td>-0.127044</td>\n",
       "    </tr>\n",
       "  </tbody>\n",
       "</table>\n",
       "<p>88 rows × 3 columns</p>\n",
       "</div>"
      ]
     },
     "execution_count": 11,
     "metadata": {},
     "output_type": "execute_result"
    }
   ],
   "execution_count": 11
  },
  {
   "cell_type": "code",
   "metadata": {
    "ExecuteTime": {
     "end_time": "2024-05-16T01:00:29.089678Z",
     "start_time": "2024-05-16T01:00:29.074619Z"
    }
   },
   "source": "cidCancerColumn = data['CID Cancer']",
   "outputs": [],
   "execution_count": 12
  },
  {
   "cell_type": "code",
   "metadata": {
    "ExecuteTime": {
     "end_time": "2024-05-16T01:00:29.121447Z",
     "start_time": "2024-05-16T01:00:29.091651Z"
    }
   },
   "source": [
    "result.insert(0, 'CID Cancer', cidCancerColumn)\n",
    "result"
   ],
   "outputs": [
    {
     "data": {
      "text/plain": [
       "                                           CID Cancer  Notificações  Anomaly  \\\n",
       "0                          C00 - Neopl malig do labio             3        0   \n",
       "1                 C01 - Neopl malig da base da lingua             8        0   \n",
       "2        C02 - Neopl malig outr partes e NE da lingua             7        0   \n",
       "3               C04 - Neopl malig do assoalho da boca             4        0   \n",
       "4                         C05 - Neopl malig do palato             3        0   \n",
       "..                                                ...           ...      ...   \n",
       "83  D43 - Neopl comp inc/desc encefalo sist nerv c...             4        0   \n",
       "84                       D46 - Sindr mielodisplasicas             6        0   \n",
       "85     D48 - Neopl comp inc/desconh outr localiz e NE             4        0   \n",
       "86                                   Não preeenchidos           603        1   \n",
       "87                          Outros CID's não listados            34        0   \n",
       "\n",
       "    Anomaly_Score  \n",
       "0       -0.226894  \n",
       "1       -0.186863  \n",
       "2       -0.211619  \n",
       "3       -0.234642  \n",
       "4       -0.226894  \n",
       "..            ...  \n",
       "83      -0.234642  \n",
       "84      -0.227959  \n",
       "85      -0.234642  \n",
       "86       0.215896  \n",
       "87      -0.127044  \n",
       "\n",
       "[88 rows x 4 columns]"
      ],
      "text/html": [
       "<div>\n",
       "<style scoped>\n",
       "    .dataframe tbody tr th:only-of-type {\n",
       "        vertical-align: middle;\n",
       "    }\n",
       "\n",
       "    .dataframe tbody tr th {\n",
       "        vertical-align: top;\n",
       "    }\n",
       "\n",
       "    .dataframe thead th {\n",
       "        text-align: right;\n",
       "    }\n",
       "</style>\n",
       "<table border=\"1\" class=\"dataframe\">\n",
       "  <thead>\n",
       "    <tr style=\"text-align: right;\">\n",
       "      <th></th>\n",
       "      <th>CID Cancer</th>\n",
       "      <th>Notificações</th>\n",
       "      <th>Anomaly</th>\n",
       "      <th>Anomaly_Score</th>\n",
       "    </tr>\n",
       "  </thead>\n",
       "  <tbody>\n",
       "    <tr>\n",
       "      <th>0</th>\n",
       "      <td>C00 - Neopl malig do labio</td>\n",
       "      <td>3</td>\n",
       "      <td>0</td>\n",
       "      <td>-0.226894</td>\n",
       "    </tr>\n",
       "    <tr>\n",
       "      <th>1</th>\n",
       "      <td>C01 - Neopl malig da base da lingua</td>\n",
       "      <td>8</td>\n",
       "      <td>0</td>\n",
       "      <td>-0.186863</td>\n",
       "    </tr>\n",
       "    <tr>\n",
       "      <th>2</th>\n",
       "      <td>C02 - Neopl malig outr partes e NE da lingua</td>\n",
       "      <td>7</td>\n",
       "      <td>0</td>\n",
       "      <td>-0.211619</td>\n",
       "    </tr>\n",
       "    <tr>\n",
       "      <th>3</th>\n",
       "      <td>C04 - Neopl malig do assoalho da boca</td>\n",
       "      <td>4</td>\n",
       "      <td>0</td>\n",
       "      <td>-0.234642</td>\n",
       "    </tr>\n",
       "    <tr>\n",
       "      <th>4</th>\n",
       "      <td>C05 - Neopl malig do palato</td>\n",
       "      <td>3</td>\n",
       "      <td>0</td>\n",
       "      <td>-0.226894</td>\n",
       "    </tr>\n",
       "    <tr>\n",
       "      <th>...</th>\n",
       "      <td>...</td>\n",
       "      <td>...</td>\n",
       "      <td>...</td>\n",
       "      <td>...</td>\n",
       "    </tr>\n",
       "    <tr>\n",
       "      <th>83</th>\n",
       "      <td>D43 - Neopl comp inc/desc encefalo sist nerv c...</td>\n",
       "      <td>4</td>\n",
       "      <td>0</td>\n",
       "      <td>-0.234642</td>\n",
       "    </tr>\n",
       "    <tr>\n",
       "      <th>84</th>\n",
       "      <td>D46 - Sindr mielodisplasicas</td>\n",
       "      <td>6</td>\n",
       "      <td>0</td>\n",
       "      <td>-0.227959</td>\n",
       "    </tr>\n",
       "    <tr>\n",
       "      <th>85</th>\n",
       "      <td>D48 - Neopl comp inc/desconh outr localiz e NE</td>\n",
       "      <td>4</td>\n",
       "      <td>0</td>\n",
       "      <td>-0.234642</td>\n",
       "    </tr>\n",
       "    <tr>\n",
       "      <th>86</th>\n",
       "      <td>Não preeenchidos</td>\n",
       "      <td>603</td>\n",
       "      <td>1</td>\n",
       "      <td>0.215896</td>\n",
       "    </tr>\n",
       "    <tr>\n",
       "      <th>87</th>\n",
       "      <td>Outros CID's não listados</td>\n",
       "      <td>34</td>\n",
       "      <td>0</td>\n",
       "      <td>-0.127044</td>\n",
       "    </tr>\n",
       "  </tbody>\n",
       "</table>\n",
       "<p>88 rows × 4 columns</p>\n",
       "</div>"
      ]
     },
     "execution_count": 13,
     "metadata": {},
     "output_type": "execute_result"
    }
   ],
   "execution_count": 13
  },
  {
   "cell_type": "code",
   "metadata": {
    "ExecuteTime": {
     "end_time": "2024-05-16T01:00:29.152637Z",
     "start_time": "2024-05-16T01:00:29.126449Z"
    }
   },
   "source": [
    "result[result['Anomaly']==1]"
   ],
   "outputs": [
    {
     "data": {
      "text/plain": [
       "                                       CID Cancer  Notificações  Anomaly  \\\n",
       "27  C34 - Neopl malig dos bronquios e dos pulmoes           248        1   \n",
       "34                 C44 - Outr neopl malig da pele          1261        1   \n",
       "39                      C50 - Neopl malig da mama           144        1   \n",
       "45                  C61 - Neopl malig da prostata           134        1   \n",
       "86                               Não preeenchidos           603        1   \n",
       "\n",
       "    Anomaly_Score  \n",
       "27       0.149788  \n",
       "34       0.287152  \n",
       "39       0.033801  \n",
       "45       0.007476  \n",
       "86       0.215896  "
      ],
      "text/html": [
       "<div>\n",
       "<style scoped>\n",
       "    .dataframe tbody tr th:only-of-type {\n",
       "        vertical-align: middle;\n",
       "    }\n",
       "\n",
       "    .dataframe tbody tr th {\n",
       "        vertical-align: top;\n",
       "    }\n",
       "\n",
       "    .dataframe thead th {\n",
       "        text-align: right;\n",
       "    }\n",
       "</style>\n",
       "<table border=\"1\" class=\"dataframe\">\n",
       "  <thead>\n",
       "    <tr style=\"text-align: right;\">\n",
       "      <th></th>\n",
       "      <th>CID Cancer</th>\n",
       "      <th>Notificações</th>\n",
       "      <th>Anomaly</th>\n",
       "      <th>Anomaly_Score</th>\n",
       "    </tr>\n",
       "  </thead>\n",
       "  <tbody>\n",
       "    <tr>\n",
       "      <th>27</th>\n",
       "      <td>C34 - Neopl malig dos bronquios e dos pulmoes</td>\n",
       "      <td>248</td>\n",
       "      <td>1</td>\n",
       "      <td>0.149788</td>\n",
       "    </tr>\n",
       "    <tr>\n",
       "      <th>34</th>\n",
       "      <td>C44 - Outr neopl malig da pele</td>\n",
       "      <td>1261</td>\n",
       "      <td>1</td>\n",
       "      <td>0.287152</td>\n",
       "    </tr>\n",
       "    <tr>\n",
       "      <th>39</th>\n",
       "      <td>C50 - Neopl malig da mama</td>\n",
       "      <td>144</td>\n",
       "      <td>1</td>\n",
       "      <td>0.033801</td>\n",
       "    </tr>\n",
       "    <tr>\n",
       "      <th>45</th>\n",
       "      <td>C61 - Neopl malig da prostata</td>\n",
       "      <td>134</td>\n",
       "      <td>1</td>\n",
       "      <td>0.007476</td>\n",
       "    </tr>\n",
       "    <tr>\n",
       "      <th>86</th>\n",
       "      <td>Não preeenchidos</td>\n",
       "      <td>603</td>\n",
       "      <td>1</td>\n",
       "      <td>0.215896</td>\n",
       "    </tr>\n",
       "  </tbody>\n",
       "</table>\n",
       "</div>"
      ]
     },
     "execution_count": 14,
     "metadata": {},
     "output_type": "execute_result"
    }
   ],
   "execution_count": 14
  },
  {
   "cell_type": "markdown",
   "metadata": {},
   "source": [
    "Fonte: Ministério da Saúde/SVS - Sistema de Informação de Agravos de Notificação - Sinan Net\n",
    "Notas:\n",
    "\n",
    "1. Períodos Disponíveis / Período - Correspondem aos anos de notificação dos casos.\n",
    "1. CAT - Comunicação de acidente de trabalho O campo \"CNAE - Ativ. Econ.\" considera os códigos referentes as tabelas CNAE 1.0.\n",
    "1. Dados a partir 2020 do Espírito Santo não estão disponíveis neste sistema, pois são oriundos do Sistema de Informação e-SUS VS,\n",
    "1. Dados de 2006 a 2017 revisados e atualizados em 15/08/2022.\n",
    "1. Dados de 2018 revisados e atualizados em 22/08/2022.\n",
    "1. Dados de 2019 atualizados em junho de 2023.\n",
    "1. Dados de 2020 atualizados em junho de 2023, sujeitos à revisão.\n",
    "1. Dados de 2021 revisados e atualizados em agosto de 2023, sujeitos à revisão.\n",
    "1. Dados de 2022 revisados e atualizados em julho de 2023, sujeitos à revisão.\n",
    "1. Dados de 2023 atualizados em janeiro de 2024, sujeitos à revisão.\n",
    "* Dados disponibilizados no TABNET em fevereiro de 2024."
   ]
  }
 ],
 "metadata": {
  "kernelspec": {
   "display_name": "pycaret",
   "language": "python",
   "name": "pycaret"
  },
  "language_info": {
   "codemirror_mode": {
    "name": "ipython",
    "version": 3
   },
   "file_extension": ".py",
   "mimetype": "text/x-python",
   "name": "python",
   "nbconvert_exporter": "python",
   "pygments_lexer": "ipython3",
   "version": "3.10.13"
  },
  "varInspector": {
   "cols": {
    "lenName": 16,
    "lenType": 16,
    "lenVar": 40
   },
   "kernels_config": {
    "python": {
     "delete_cmd_postfix": "",
     "delete_cmd_prefix": "del ",
     "library": "var_list.py",
     "varRefreshCmd": "print(var_dic_list())"
    },
    "r": {
     "delete_cmd_postfix": ") ",
     "delete_cmd_prefix": "rm(",
     "library": "var_list.r",
     "varRefreshCmd": "cat(var_dic_list()) "
    }
   },
   "types_to_exclude": [
    "module",
    "function",
    "builtin_function_or_method",
    "instance",
    "_Feature"
   ],
   "window_display": false
  }
 },
 "nbformat": 4,
 "nbformat_minor": 2
}
